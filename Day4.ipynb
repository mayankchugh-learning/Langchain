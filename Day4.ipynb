{
 "cells": [
  {
   "cell_type": "code",
   "execution_count": null,
   "id": "9bd6bda3-d88b-455b-9f46-ce71c7d08b9a",
   "metadata": {},
   "outputs": [],
   "source": [
    "import os"
   ]
  },
  {
   "cell_type": "code",
   "execution_count": 1,
   "id": "b7a7fd75-2dea-4ce6-a413-65d811ac2e2f",
   "metadata": {},
   "outputs": [],
   "source": [
    "OPENAI_KEY=os.environ.get(\"OPENAI_API_KEY\")"
   ]
  },
  {
   "cell_type": "code",
   "execution_count": 2,
   "id": "2534f0a3-cc7f-41e1-b4fe-d08532aebebf",
   "metadata": {},
   "outputs": [],
   "source": [
    "import langchain"
   ]
  },
  {
   "cell_type": "code",
   "execution_count": 3,
   "id": "61bf6206-3aad-40e7-a1bc-db8e50b59f26",
   "metadata": {},
   "outputs": [],
   "source": [
    "from langchain.llms import OpenAI"
   ]
  },
  {
   "cell_type": "code",
   "execution_count": 4,
   "id": "7d02ce42-c5a7-45a7-954b-9b0b897b5a37",
   "metadata": {},
   "outputs": [
    {
     "name": "stderr",
     "output_type": "stream",
     "text": [
      "/Users/mayankchugh/opt/anaconda3/envs/genaifisrtprj/lib/python3.8/site-packages/langchain_core/_api/deprecation.py:117: LangChainDeprecationWarning: The class `langchain_community.llms.openai.OpenAI` was deprecated in langchain-community 0.0.10 and will be removed in 0.2.0. An updated version of the class exists in the langchain-openai package and should be used instead. To use it run `pip install -U langchain-openai` and import as `from langchain_openai import OpenAI`.\n",
      "  warn_deprecated(\n"
     ]
    }
   ],
   "source": [
    "client=OpenAI(openai_api_key=OPENAI_KEY)"
   ]
  },
  {
   "cell_type": "code",
   "execution_count": 5,
   "id": "77e06ec5-7425-4fd6-bf3d-a64d09b673e1",
   "metadata": {},
   "outputs": [],
   "source": [
    "# zero shot prompting\n",
    "prompt=\"can you tell me total number of country in aisa? can you give me top 10 contry name?\""
   ]
  },
  {
   "cell_type": "code",
   "execution_count": 6,
   "id": "94e80553-4f35-46f6-85ad-063498988079",
   "metadata": {},
   "outputs": [
    {
     "name": "stderr",
     "output_type": "stream",
     "text": [
      "/Users/mayankchugh/opt/anaconda3/envs/genaifisrtprj/lib/python3.8/site-packages/langchain_core/_api/deprecation.py:117: LangChainDeprecationWarning: The function `predict` was deprecated in LangChain 0.1.7 and will be removed in 0.2.0. Use invoke instead.\n",
      "  warn_deprecated(\n"
     ]
    },
    {
     "name": "stdout",
     "output_type": "stream",
     "text": [
      "As an AI, I do not have access to current information or the ability to browse the internet. The total number of countries in Asia may vary depending on the source, but according to the United Nations, there are 48 countries in Asia. Some of the top 10 countries in Asia based on population and land area are China, India, Indonesia, Pakistan, Bangladesh, Japan, Philippines, Vietnam, Iran, and Turkey.\n"
     ]
    }
   ],
   "source": [
    "print(client.predict(prompt).strip())"
   ]
  },
  {
   "cell_type": "code",
   "execution_count": 7,
   "id": "1f3701dd-aa3a-41c0-9673-e10bd3af0e4b",
   "metadata": {},
   "outputs": [],
   "source": [
    "# zero shot prompting\n",
    "prompt2=\"can you tell me a capital of india?\""
   ]
  },
  {
   "cell_type": "code",
   "execution_count": 8,
   "id": "86336d8c-348f-47a5-b3d3-2adfbcf567a2",
   "metadata": {},
   "outputs": [
    {
     "data": {
      "text/plain": [
       "'The capital of India is New Delhi.'"
      ]
     },
     "execution_count": 8,
     "metadata": {},
     "output_type": "execute_result"
    }
   ],
   "source": [
    "client.predict(prompt2).strip()"
   ]
  },
  {
   "cell_type": "code",
   "execution_count": 9,
   "id": "4701141a-be39-4e66-bd1b-5c9554e87481",
   "metadata": {},
   "outputs": [
    {
     "data": {
      "text/plain": [
       "'\\n\\nThe capital of India is New Delhi.'"
      ]
     },
     "execution_count": 9,
     "metadata": {},
     "output_type": "execute_result"
    }
   ],
   "source": [
    "client.predict(prompt2)"
   ]
  },
  {
   "cell_type": "code",
   "execution_count": 10,
   "id": "d3462fba-a458-4274-94a8-ee6d4824d111",
   "metadata": {},
   "outputs": [
    {
     "data": {
      "text/plain": [
       "'There are 48 countries in Asia. The top 10 countries in Asia by population are:\\n\\n1. China\\n2. India\\n3. Indonesia\\n4. Pakistan\\n5. Bangladesh\\n6. Japan\\n7. Philippines\\n8. Vietnam\\n9. Iran\\n10. Turkey'"
      ]
     },
     "execution_count": 10,
     "metadata": {},
     "output_type": "execute_result"
    }
   ],
   "source": [
    "client.predict(prompt).strip()"
   ]
  },
  {
   "cell_type": "code",
   "execution_count": 11,
   "id": "67a10bf4-b22d-4499-a2b0-f8abbc1618bb",
   "metadata": {},
   "outputs": [],
   "source": [
    "prompt3=\"​what exactly tokens , vector ?\""
   ]
  },
  {
   "cell_type": "code",
   "execution_count": 12,
   "id": "9d5b088d-9d74-4c42-97bc-377a2c917cac",
   "metadata": {},
   "outputs": [
    {
     "data": {
      "text/plain": [
       "\"Tokens and vectors are both mathematical concepts that are used in different fields, such as computer science, statistics, and linear algebra. While they may seem similar, they have distinct definitions and uses.\\n\\nTokens refer to a single, atomic unit of information. In computer science and programming, tokens are used to represent individual elements, such as keywords, symbols, or identifiers, in a program's source code. They are also used in natural language processing to represent words or phrases in a text.\\n\\nVectors, on the other hand, refer to an ordered collection of values or elements. In mathematics and statistics, vectors are represented as arrays of numbers and are used to describe quantities that have both magnitude and direction, such as velocity and force. In computer science, vectors are used to represent data structures, such as arrays and lists, and are essential in machine learning and data analysis.\\n\\nIn summary, tokens are discrete units of information, while vectors are collections of values that can represent various quantities or data structures.\""
      ]
     },
     "execution_count": 12,
     "metadata": {},
     "output_type": "execute_result"
    }
   ],
   "source": [
    "client.predict(prompt3).strip()"
   ]
  },
  {
   "cell_type": "markdown",
   "id": "f9b14a83-002b-45e0-b1f6-47e00fcb87de",
   "metadata": {},
   "source": [
    "# Prompt Templates:"
   ]
  },
  {
   "cell_type": "code",
   "execution_count": 13,
   "id": "dafb5d56-ae28-40ed-a53b-d7ab3a3bd09c",
   "metadata": {},
   "outputs": [],
   "source": [
    "from langchain.prompts import PromptTemplate"
   ]
  },
  {
   "cell_type": "code",
   "execution_count": 14,
   "id": "13a1b842-9a0f-4855-9bcf-9dfa0ea9c961",
   "metadata": {},
   "outputs": [],
   "source": [
    "prompt_template_name=PromptTemplate(\n",
    "    input_variables=[\"country\"],\n",
    "    template=\"can you tell me the capital of {country}?\"\n",
    ")"
   ]
  },
  {
   "cell_type": "code",
   "execution_count": 15,
   "id": "50045108-eae4-463f-9d01-447646c101a7",
   "metadata": {},
   "outputs": [],
   "source": [
    "propmt1=prompt_template_name.format(country=\"india\")"
   ]
  },
  {
   "cell_type": "code",
   "execution_count": 16,
   "id": "5ce4da8c-1309-4d3b-8d82-c91965176580",
   "metadata": {},
   "outputs": [],
   "source": [
    "propmt2=prompt_template_name.format(country=\"china\")"
   ]
  },
  {
   "cell_type": "code",
   "execution_count": 17,
   "id": "a064bc1d-bc06-4991-aecf-6a3fa9c63fbc",
   "metadata": {},
   "outputs": [
    {
     "data": {
      "text/plain": [
       "'The capital of India is New Delhi.'"
      ]
     },
     "execution_count": 17,
     "metadata": {},
     "output_type": "execute_result"
    }
   ],
   "source": [
    "client.predict(propmt1).strip()"
   ]
  },
  {
   "cell_type": "code",
   "execution_count": 18,
   "id": "9c11559f-621f-4894-bbeb-0f98857d95d4",
   "metadata": {},
   "outputs": [
    {
     "data": {
      "text/plain": [
       "'The capital of China is Beijing.'"
      ]
     },
     "execution_count": 18,
     "metadata": {},
     "output_type": "execute_result"
    }
   ],
   "source": [
    "client.predict(propmt2).strip()"
   ]
  },
  {
   "cell_type": "code",
   "execution_count": 19,
   "id": "02e12aba-a073-4645-9a4a-5c14c747804a",
   "metadata": {},
   "outputs": [],
   "source": [
    "prompt=PromptTemplate.from_template(\"what is a good name for a compnay that makes a {product}\")"
   ]
  },
  {
   "cell_type": "code",
   "execution_count": 20,
   "id": "2c367a21-ebd8-4c33-8ac3-6238a1a0d6e9",
   "metadata": {},
   "outputs": [],
   "source": [
    "prompt3=prompt.format(product=\"toys\")"
   ]
  },
  {
   "cell_type": "code",
   "execution_count": 21,
   "id": "7df82931-e11d-4655-b46f-db435da476f0",
   "metadata": {},
   "outputs": [
    {
     "name": "stdout",
     "output_type": "stream",
     "text": [
      "1. Playtopia\n",
      "2. Toytopus\n",
      "3. Funville\n",
      "4. WonderWares\n",
      "5. Imagination Station\n",
      "6. Toylandia\n",
      "7. Happy Makers\n",
      "8. DreamWorks Toys\n",
      "9. MagicPlay Co.\n",
      "10. Joyful Creations\n"
     ]
    }
   ],
   "source": [
    "print(client.predict(prompt3).strip())"
   ]
  },
  {
   "cell_type": "markdown",
   "id": "08bc1ec2-5fd4-4227-b858-355bb08eb162",
   "metadata": {},
   "source": [
    "# agent"
   ]
  },
  {
   "cell_type": "code",
   "execution_count": 22,
   "id": "dcbbf377-6c51-4e30-a1f5-790d792c485f",
   "metadata": {},
   "outputs": [],
   "source": [
    "prompt4=\"can you tell me who won the recent cricket world cup?\""
   ]
  },
  {
   "cell_type": "code",
   "execution_count": 23,
   "id": "f1c0c29a-9213-4695-a3fb-69cb24b3c7ef",
   "metadata": {},
   "outputs": [
    {
     "data": {
      "text/plain": [
       "'The recent Cricket World Cup was won by England in 2019.'"
      ]
     },
     "execution_count": 23,
     "metadata": {},
     "output_type": "execute_result"
    }
   ],
   "source": [
    "client.predict(prompt4).strip()"
   ]
  },
  {
   "cell_type": "code",
   "execution_count": 24,
   "id": "e403eaf3-8101-4967-9403-12a856558684",
   "metadata": {},
   "outputs": [],
   "source": [
    "prompt5=\"can you tell me current GDP of india?\""
   ]
  },
  {
   "cell_type": "code",
   "execution_count": 25,
   "id": "eb4407c6-9ace-4aa0-b24c-d170561f6d51",
   "metadata": {},
   "outputs": [
    {
     "data": {
      "text/plain": [
       "'As of 2021, the current GDP of India is estimated to be around $3.05 trillion.'"
      ]
     },
     "execution_count": 25,
     "metadata": {},
     "output_type": "execute_result"
    }
   ],
   "source": [
    "client.predict(prompt5).strip()"
   ]
  },
  {
   "cell_type": "markdown",
   "id": "8fedfb8b-9809-443c-849c-b2671f7502b8",
   "metadata": {},
   "source": [
    "# for extracting a real time info i am going to user serp api\n",
    "\n",
    "# now by using this serp api i wll call google-search-engine \n",
    "\n",
    "# and i will extract the information in a real time"
   ]
  },
  {
   "cell_type": "code",
   "execution_count": 26,
   "id": "98f6917f-2e75-4b67-8f46-9412d6f57752",
   "metadata": {},
   "outputs": [
    {
     "name": "stdout",
     "output_type": "stream",
     "text": [
      "Requirement already satisfied: google-search-results in /Users/mayankchugh/opt/anaconda3/envs/genaifisrtprj/lib/python3.8/site-packages (2.4.2)\n",
      "Requirement already satisfied: requests in /Users/mayankchugh/opt/anaconda3/envs/genaifisrtprj/lib/python3.8/site-packages (from google-search-results) (2.31.0)\n",
      "Requirement already satisfied: charset-normalizer<4,>=2 in /Users/mayankchugh/opt/anaconda3/envs/genaifisrtprj/lib/python3.8/site-packages (from requests->google-search-results) (3.3.2)\n",
      "Requirement already satisfied: idna<4,>=2.5 in /Users/mayankchugh/opt/anaconda3/envs/genaifisrtprj/lib/python3.8/site-packages (from requests->google-search-results) (3.6)\n",
      "Requirement already satisfied: urllib3<3,>=1.21.1 in /Users/mayankchugh/opt/anaconda3/envs/genaifisrtprj/lib/python3.8/site-packages (from requests->google-search-results) (2.2.1)\n",
      "Requirement already satisfied: certifi>=2017.4.17 in /Users/mayankchugh/opt/anaconda3/envs/genaifisrtprj/lib/python3.8/site-packages (from requests->google-search-results) (2024.2.2)\n"
     ]
    }
   ],
   "source": [
    "!pip install google-search-results"
   ]
  },
  {
   "cell_type": "code",
   "execution_count": 27,
   "id": "8bbf36c7-8d42-47a6-97b1-b11cc4373cda",
   "metadata": {},
   "outputs": [],
   "source": [
    "serpapi_key=\"aac6a5d560123d85a707d259994b561bc195d898e35876f4c4dc1755703c6742\""
   ]
  },
  {
   "cell_type": "code",
   "execution_count": 28,
   "id": "9109ba27-bc3f-4de6-9bfe-508b3f4079e4",
   "metadata": {},
   "outputs": [],
   "source": [
    "from langchain.agents import AgentType\n",
    "from langchain.agents import load_tools \n",
    "from langchain.agents import initialize_agent\n",
    "from langchain.llms import OpenAI"
   ]
  },
  {
   "cell_type": "code",
   "execution_count": 29,
   "id": "36ad5577-46ec-41e3-9c0c-c43f82f52a53",
   "metadata": {},
   "outputs": [],
   "source": [
    "client=OpenAI(openai_api_key=OPENAI_KEY)"
   ]
  },
  {
   "cell_type": "code",
   "execution_count": 30,
   "id": "9bf39f86-fec7-4335-be77-197428be8b54",
   "metadata": {},
   "outputs": [],
   "source": [
    "tool=load_tools([\"serpapi\"],serpapi_api_key=serpapi_key,llm=client)"
   ]
  },
  {
   "cell_type": "code",
   "execution_count": 31,
   "id": "2149ad8c-6c28-46ac-b5e8-0d62b6cff1b2",
   "metadata": {},
   "outputs": [
    {
     "name": "stderr",
     "output_type": "stream",
     "text": [
      "/Users/mayankchugh/opt/anaconda3/envs/genaifisrtprj/lib/python3.8/site-packages/langchain_core/_api/deprecation.py:117: LangChainDeprecationWarning: The function `initialize_agent` was deprecated in LangChain 0.1.0 and will be removed in 0.2.0. Use Use new agent constructor methods like create_react_agent, create_json_agent, create_structured_chat_agent, etc. instead.\n",
      "  warn_deprecated(\n"
     ]
    }
   ],
   "source": [
    "agent=initialize_agent(tool,client,agent=AgentType.ZERO_SHOT_REACT_DESCRIPTION,verbose=True)"
   ]
  },
  {
   "cell_type": "code",
   "execution_count": 32,
   "id": "01e7066b-8e11-48b8-9c6d-ce3b17789248",
   "metadata": {},
   "outputs": [
    {
     "name": "stderr",
     "output_type": "stream",
     "text": [
      "/Users/mayankchugh/opt/anaconda3/envs/genaifisrtprj/lib/python3.8/site-packages/langchain_core/_api/deprecation.py:117: LangChainDeprecationWarning: The function `run` was deprecated in LangChain 0.1.0 and will be removed in 0.2.0. Use invoke instead.\n",
      "  warn_deprecated(\n"
     ]
    },
    {
     "name": "stdout",
     "output_type": "stream",
     "text": [
      "\n",
      "\n",
      "\u001b[1m> Entering new AgentExecutor chain...\u001b[0m\n",
      "\u001b[32;1m\u001b[1;3m It is best to search for current events on a search engine to get the most accurate and up-to-date information.\n",
      "Action: Search\n",
      "Action Input: cricket worldcup winner\u001b[0m\n",
      "Observation: \u001b[36;1m\u001b[1;3mAustralian Men’s Cricket Team\u001b[0m\n",
      "Thought:\u001b[32;1m\u001b[1;3m This result may not be the most recent, since the search query did not specify a year.\n",
      "Action: Search\n",
      "Action Input: cricket worldcup winner 2021\u001b[0m\n",
      "Observation: \u001b[36;1m\u001b[1;3m{'title': \"ICC Men's T20 World Cup\", 'thumbnail': 'https://serpapi.com/searches/65dc522eca968f045f17d3d0/images/94ab766f5d354cf2b8b1bcfa94ffacd435053651c6818c62ab02934a4449cba0.png', 'games': [{'tournament': \"ICC Men's T20 World Cup\", 'stadium': 'Dubai International Stadium', 'date': 'Nov 14, 21', 'teams': [{'name': 'New Zealand', 'score': '172/4 (20)', 'thumbnail': 'https://serpapi.com/searches/65dc522eca968f045f17d3d0/images/94ab766f5d354cf2e193b1858d2d7127334b4cbd01877da35ba75cbc2adf5642ec0a8ffccb8aa412c7d34f518d9e88a2.png'}, {'name': 'Australia', 'score': '173/2 (18.5)', 'thumbnail': 'https://serpapi.com/searches/65dc522eca968f045f17d3d0/images/94ab766f5d354cf2e193b1858d2d7127334b4cbd01877da3981d9a9c59747cdf384c8d79431d366650f8307dab04129f.png'}], 'status': 'AUS won by 8 wickets (7 balls left)'}, {'tournament': \"ICC Men's T20 World Cup\", 'stadium': 'Dubai International Stadium', 'date': 'Nov 11, 21', 'teams': [{'name': 'Pakistan', 'score': '176/4 (20)', 'thumbnail': 'https://serpapi.com/searches/65dc522eca968f045f17d3d0/images/94ab766f5d354cf2e193b1858d2d7127b157366af89900bd31a74e31ff95bb6b571c86646814285851d37041013e0328.png'}, {'name': 'Australia', 'score': '177/5 (19)', 'thumbnail': 'https://serpapi.com/searches/65dc522eca968f045f17d3d0/images/94ab766f5d354cf2e193b1858d2d7127b157366af89900bd08d4a9b31ec43df523f3f12a90076c3fd15117f23de81810.png'}], 'status': 'AUS won by 5 wickets (6 balls left)'}, {'tournament': \"ICC Men's T20 World Cup\", 'stadium': 'Sheikh Zayed Stadium', 'date': 'Nov 10, 21', 'teams': [{'name': 'England', 'score': '166/4 (20)', 'thumbnail': 'https://serpapi.com/searches/65dc522eca968f045f17d3d0/images/94ab766f5d354cf2e193b1858d2d7127192fab268535c187316c1f6bc4dc150d57476d7c2fee7715283fe6f544559279.png'}, {'name': 'New Zealand', 'score': '167/5 (19)', 'thumbnail': 'https://serpapi.com/searches/65dc522eca968f045f17d3d0/images/94ab766f5d354cf2e193b1858d2d7127192fab268535c18775b2167c628fffcd2ca30103a81c06c111ceeae63c6795bb.png'}], 'status': 'NZ won by 5 wickets (6 balls left)'}, {'tournament': \"ICC Men's T20 World Cup\", 'stadium': 'Dubai International Stadium', 'date': 'Nov 8, 21', 'teams': [{'name': 'Namibia', 'score': '132/8 (20)', 'thumbnail': 'https://serpapi.com/searches/65dc522eca968f045f17d3d0/images/94ab766f5d354cf2e193b1858d2d71276c7a4e9539cca0898b09f929fe313a726a60c6a4cddfcea21ea2d782e66ffe20.png'}, {'name': 'India', 'score': '136/1 (15.2)', 'thumbnail': 'https://serpapi.com/searches/65dc522eca968f045f17d3d0/images/94ab766f5d354cf2e193b1858d2d71276c7a4e9539cca0890a2a4c94a8f0ae6622b73f5ce39f3b930fde415f58239843.png'}], 'status': 'IND won by 9 wickets (28 balls left)'}, {'tournament': \"ICC Men's T20 World Cup\", 'stadium': 'Sharjah Cricket Stadium', 'date': 'Nov 7, 21', 'teams': [{'name': 'Pakistan', 'score': '189/4 (20)', 'thumbnail': 'https://serpapi.com/searches/65dc522eca968f045f17d3d0/images/94ab766f5d354cf2e193b1858d2d71273f1aa069b89210b37cf91631259211154d42fdad89c74f27fd413d5ec7166a5f.png'}, {'name': 'Scotland', 'score': '117/6 (20)', 'thumbnail': 'https://serpapi.com/searches/65dc522eca968f045f17d3d0/images/94ab766f5d354cf2e193b1858d2d71273f1aa069b89210b347b39e070fe30c776c760aca7f1ed8e68dcf248c673a633c.png'}], 'status': 'PAK won by 72 runs'}, {'tournament': \"ICC Men's T20 World Cup\", 'stadium': 'Sheikh Zayed Stadium', 'date': 'Nov 7, 21', 'teams': [{'name': 'Afghanistan', 'score': '124/8 (20)', 'thumbnail': 'https://serpapi.com/searches/65dc522eca968f045f17d3d0/images/94ab766f5d354cf2e193b1858d2d7127531db954483b62160f15ee738028c358bce4c31aac00781b1c6e1e4c41174d73.png'}, {'name': 'New Zealand', 'score': '125/2 (18.1)', 'thumbnail': 'https://serpapi.com/searches/65dc522eca968f045f17d3d0/images/94ab766f5d354cf2e193b1858d2d7127531db954483b62165d86430422ef8f9df30d2e9b8346d7a9a6f6328045237069.png'}], 'status': 'NZ won by 8 wickets (11 balls left)'}]}\u001b[0m\n",
      "Thought:\u001b[32;1m\u001b[1;3m This result looks more accurate and specific to the recent cricket worldcup.\n",
      "Action: Search\n",
      "Action Input: cricket worldcup winner 2021\u001b[0m\n",
      "Observation: \u001b[36;1m\u001b[1;3m{'title': \"ICC Men's T20 World Cup\", 'thumbnail': 'https://serpapi.com/searches/65dc522eca968f045f17d3d0/images/94ab766f5d354cf2b8b1bcfa94ffacd435053651c6818c62ab02934a4449cba0.png', 'games': [{'tournament': \"ICC Men's T20 World Cup\", 'stadium': 'Dubai International Stadium', 'date': 'Nov 14, 21', 'teams': [{'name': 'New Zealand', 'score': '172/4 (20)', 'thumbnail': 'https://serpapi.com/searches/65dc522eca968f045f17d3d0/images/94ab766f5d354cf2e193b1858d2d7127334b4cbd01877da35ba75cbc2adf5642ec0a8ffccb8aa412c7d34f518d9e88a2.png'}, {'name': 'Australia', 'score': '173/2 (18.5)', 'thumbnail': 'https://serpapi.com/searches/65dc522eca968f045f17d3d0/images/94ab766f5d354cf2e193b1858d2d7127334b4cbd01877da3981d9a9c59747cdf384c8d79431d366650f8307dab04129f.png'}], 'status': 'AUS won by 8 wickets (7 balls left)'}, {'tournament': \"ICC Men's T20 World Cup\", 'stadium': 'Dubai International Stadium', 'date': 'Nov 11, 21', 'teams': [{'name': 'Pakistan', 'score': '176/4 (20)', 'thumbnail': 'https://serpapi.com/searches/65dc522eca968f045f17d3d0/images/94ab766f5d354cf2e193b1858d2d7127b157366af89900bd31a74e31ff95bb6b571c86646814285851d37041013e0328.png'}, {'name': 'Australia', 'score': '177/5 (19)', 'thumbnail': 'https://serpapi.com/searches/65dc522eca968f045f17d3d0/images/94ab766f5d354cf2e193b1858d2d7127b157366af89900bd08d4a9b31ec43df523f3f12a90076c3fd15117f23de81810.png'}], 'status': 'AUS won by 5 wickets (6 balls left)'}, {'tournament': \"ICC Men's T20 World Cup\", 'stadium': 'Sheikh Zayed Stadium', 'date': 'Nov 10, 21', 'teams': [{'name': 'England', 'score': '166/4 (20)', 'thumbnail': 'https://serpapi.com/searches/65dc522eca968f045f17d3d0/images/94ab766f5d354cf2e193b1858d2d7127192fab268535c187316c1f6bc4dc150d57476d7c2fee7715283fe6f544559279.png'}, {'name': 'New Zealand', 'score': '167/5 (19)', 'thumbnail': 'https://serpapi.com/searches/65dc522eca968f045f17d3d0/images/94ab766f5d354cf2e193b1858d2d7127192fab268535c18775b2167c628fffcd2ca30103a81c06c111ceeae63c6795bb.png'}], 'status': 'NZ won by 5 wickets (6 balls left)'}, {'tournament': \"ICC Men's T20 World Cup\", 'stadium': 'Dubai International Stadium', 'date': 'Nov 8, 21', 'teams': [{'name': 'Namibia', 'score': '132/8 (20)', 'thumbnail': 'https://serpapi.com/searches/65dc522eca968f045f17d3d0/images/94ab766f5d354cf2e193b1858d2d71276c7a4e9539cca0898b09f929fe313a726a60c6a4cddfcea21ea2d782e66ffe20.png'}, {'name': 'India', 'score': '136/1 (15.2)', 'thumbnail': 'https://serpapi.com/searches/65dc522eca968f045f17d3d0/images/94ab766f5d354cf2e193b1858d2d71276c7a4e9539cca0890a2a4c94a8f0ae6622b73f5ce39f3b930fde415f58239843.png'}], 'status': 'IND won by 9 wickets (28 balls left)'}, {'tournament': \"ICC Men's T20 World Cup\", 'stadium': 'Sharjah Cricket Stadium', 'date': 'Nov 7, 21', 'teams': [{'name': 'Pakistan', 'score': '189/4 (20)', 'thumbnail': 'https://serpapi.com/searches/65dc522eca968f045f17d3d0/images/94ab766f5d354cf2e193b1858d2d71273f1aa069b89210b37cf91631259211154d42fdad89c74f27fd413d5ec7166a5f.png'}, {'name': 'Scotland', 'score': '117/6 (20)', 'thumbnail': 'https://serpapi.com/searches/65dc522eca968f045f17d3d0/images/94ab766f5d354cf2e193b1858d2d71273f1aa069b89210b347b39e070fe30c776c760aca7f1ed8e68dcf248c673a633c.png'}], 'status': 'PAK won by 72 runs'}, {'tournament': \"ICC Men's T20 World Cup\", 'stadium': 'Sheikh Zayed Stadium', 'date': 'Nov 7, 21', 'teams': [{'name': 'Afghanistan', 'score': '124/8 (20)', 'thumbnail': 'https://serpapi.com/searches/65dc522eca968f045f17d3d0/images/94ab766f5d354cf2e193b1858d2d7127531db954483b62160f15ee738028c358bce4c31aac00781b1c6e1e4c41174d73.png'}, {'name': 'New Zealand', 'score': '125/2 (18.1)', 'thumbnail': 'https://serpapi.com/searches/65dc522eca968f045f17d3d0/images/94ab766f5d354cf2e193b1858d2d7127531db954483b62165d86430422ef8f9df30d2e9b8346d7a9a6f6328045237069.png'}], 'status': 'NZ won by 8 wickets (11 balls left)'}]}\u001b[0m\n",
      "Thought:\u001b[32;1m\u001b[1;3m This result confirms that the Australian Men’s Cricket Team won the 2021 ICC Men's T20 World Cup.\n",
      "Final Answer: The Australian Men’s Cricket Team won the cricket worldcup recently in 2021.\u001b[0m\n",
      "\n",
      "\u001b[1m> Finished chain.\u001b[0m\n"
     ]
    },
    {
     "data": {
      "text/plain": [
       "'The Australian Men’s Cricket Team won the cricket worldcup recently in 2021.'"
      ]
     },
     "execution_count": 32,
     "metadata": {},
     "output_type": "execute_result"
    }
   ],
   "source": [
    "agent.run(\"can you tell who won the cricket worldcup recently?\")"
   ]
  },
  {
   "cell_type": "code",
   "execution_count": 33,
   "id": "e044ffaa-4b36-4674-bda9-7f21d5eb1ef6",
   "metadata": {},
   "outputs": [
    {
     "name": "stdout",
     "output_type": "stream",
     "text": [
      "\n",
      "\n",
      "\u001b[1m> Entering new AgentExecutor chain...\u001b[0m\n",
      "\u001b[32;1m\u001b[1;3m It would be helpful to use a search engine to find the top current affairs.\n",
      "Action: Search\n",
      "Action Input: Top current affairs\u001b[0m\n",
      "Observation: \u001b[36;1m\u001b[1;3m[\"Get international breaking news and current affairs reported by Nine's network of reporters and correspondents and partners as it happens in US, Europe, Middle ...\", \"GKToday's Current Affairs Today Section provides latest and Best Daily Current Affairs 2022-2023 for UPSC, IAS/PCS, Banking, IBPS, SSC, Railway, UPPSC, ...\", 'List of United States articles. A vertically split image shows former U.S. President Donald Trump on the left and current U.S. President Joe Biden on the right ...', 'A Current Affairs subscription is one of the best known ways to improve your life in a hurry. Our print magazine is released six times a year, in a ...', 'Adda 247 current affairs sources are PIB, NewsOnAir, RBI website, Various newspapers like Hindu, Indian Express, Financial Express, and many more. Q.5 Does ...', 'Current Affairs · Allahabad HC rejects appeal against allowing puja in Gyanvapi cellar · Hyderabad youth found dead at his apartment in US · Chhattisgarh: Cop ...', 'The Victors: Eisenhower and His Boys: The Men ofWorld War II (10/28/1999) · Killers of the Flower Moon: The Osage Murders and the Birthof ...', 'Testbook is the most popular website for daily current affairs updates. Why are Current Affairs Important? Current Affairs are important to keep up with the ...', 'Current Affairs Podcasts · 1. AM · 2. Current Affairs - Views and News(Audio) · 3. Pacific Waves · 4. World Today · 5. Current Affairs · 6. Nights with John ...']\u001b[0m\n",
      "Thought:\u001b[32;1m\u001b[1;3m With these current affairs, I should have a better understanding of what's happening in the world.\n",
      "Action: Search\n",
      "Action Input: Current events\u001b[0m\n",
      "Observation: \u001b[36;1m\u001b[1;3m['View the latest news and breaking news today for U.S., world, weather, entertainment, politics and health at CNN.com.', 'A Times Opinion video explores why Republicans and Democrats have moved so far apart on immigration. Is there any hope for a political compromise? February 15, ...', 'Go to NBCNews.com for breaking news, videos, and the latest top stories in world news, business, politics, health and pop culture.', 'US News has breaking world news on the war in Iraq and Afghanistan, international business news about the European and Asian economic market, and more.', \"The Michigan governor, who has taken a prominent role in the president's campaign, is popular in her state. But as the Democratic coalition frays, some wonder ...\", 'Breaking news and analysis from TIME.com. Politics, world news, photos, video, tech reviews, health, science and entertainment news.']\u001b[0m\n",
      "Thought:\u001b[32;1m\u001b[1;3m These are some major current events that are shaping the world.\n",
      "Final Answer: It would be helpful to use a search engine to find the top current affairs. With these current affairs, I should have a better understanding of what's happening in the world. These are some major current events that are shaping the world.\u001b[0m\n",
      "\n",
      "\u001b[1m> Finished chain.\u001b[0m\n"
     ]
    },
    {
     "data": {
      "text/plain": [
       "\"It would be helpful to use a search engine to find the top current affairs. With these current affairs, I should have a better understanding of what's happening in the world. These are some major current events that are shaping the world.\""
      ]
     },
     "execution_count": 33,
     "metadata": {},
     "output_type": "execute_result"
    }
   ],
   "source": [
    "agent.run(\"can you tell me 5 top current affairs?\")"
   ]
  },
  {
   "cell_type": "code",
   "execution_count": 34,
   "id": "04f6c808-6409-43bf-b2c0-aa7aac7e9f51",
   "metadata": {},
   "outputs": [
    {
     "name": "stdout",
     "output_type": "stream",
     "text": [
      "Collecting wikipedia\n",
      "  Downloading wikipedia-1.4.0.tar.gz (27 kB)\n",
      "  Preparing metadata (setup.py) ... \u001b[?25ldone\n",
      "\u001b[?25hRequirement already satisfied: beautifulsoup4 in /Users/mayankchugh/opt/anaconda3/envs/genaifisrtprj/lib/python3.8/site-packages (from wikipedia) (4.12.3)\n",
      "Requirement already satisfied: requests<3.0.0,>=2.0.0 in /Users/mayankchugh/opt/anaconda3/envs/genaifisrtprj/lib/python3.8/site-packages (from wikipedia) (2.31.0)\n",
      "Requirement already satisfied: charset-normalizer<4,>=2 in /Users/mayankchugh/opt/anaconda3/envs/genaifisrtprj/lib/python3.8/site-packages (from requests<3.0.0,>=2.0.0->wikipedia) (3.3.2)\n",
      "Requirement already satisfied: idna<4,>=2.5 in /Users/mayankchugh/opt/anaconda3/envs/genaifisrtprj/lib/python3.8/site-packages (from requests<3.0.0,>=2.0.0->wikipedia) (3.6)\n",
      "Requirement already satisfied: urllib3<3,>=1.21.1 in /Users/mayankchugh/opt/anaconda3/envs/genaifisrtprj/lib/python3.8/site-packages (from requests<3.0.0,>=2.0.0->wikipedia) (2.2.1)\n",
      "Requirement already satisfied: certifi>=2017.4.17 in /Users/mayankchugh/opt/anaconda3/envs/genaifisrtprj/lib/python3.8/site-packages (from requests<3.0.0,>=2.0.0->wikipedia) (2024.2.2)\n",
      "Requirement already satisfied: soupsieve>1.2 in /Users/mayankchugh/opt/anaconda3/envs/genaifisrtprj/lib/python3.8/site-packages (from beautifulsoup4->wikipedia) (2.5)\n",
      "Building wheels for collected packages: wikipedia\n",
      "  Building wheel for wikipedia (setup.py) ... \u001b[?25ldone\n",
      "\u001b[?25h  Created wheel for wikipedia: filename=wikipedia-1.4.0-py3-none-any.whl size=11678 sha256=320179b7b51a71402030cb9571547d592ea177d59585e2c7ed1cc3f30037a31a\n",
      "  Stored in directory: /Users/mayankchugh/Library/Caches/pip/wheels/07/93/05/72c05349177dca2e0ba31a33ba4f7907606f7ddef303517c6a\n",
      "Successfully built wikipedia\n",
      "Installing collected packages: wikipedia\n",
      "Successfully installed wikipedia-1.4.0\n"
     ]
    }
   ],
   "source": [
    "!pip install wikipedia"
   ]
  },
  {
   "cell_type": "code",
   "execution_count": 35,
   "id": "4448d041-ef84-4787-9524-d7321c6da379",
   "metadata": {},
   "outputs": [],
   "source": [
    "tool=load_tools([\"wikipedia\"],llm=client)"
   ]
  },
  {
   "cell_type": "code",
   "execution_count": 36,
   "id": "ef94659b-6188-48b6-9a28-70142279fe47",
   "metadata": {},
   "outputs": [],
   "source": [
    "agent=initialize_agent(tool,client,agent=AgentType.ZERO_SHOT_REACT_DESCRIPTION,verbose=True)"
   ]
  },
  {
   "cell_type": "code",
   "execution_count": 37,
   "id": "840f3fd4-6768-4af4-baba-621563e4a3b9",
   "metadata": {},
   "outputs": [
    {
     "name": "stdout",
     "output_type": "stream",
     "text": [
      "\n",
      "\n",
      "\u001b[1m> Entering new AgentExecutor chain...\u001b[0m\n",
      "\u001b[32;1m\u001b[1;3m You should always think about what to do\n",
      "Action: wikipedia\n",
      "Action Input: 2019 Cricket World Cup\u001b[0m\n",
      "Observation: \u001b[36;1m\u001b[1;3mPage: 2019 Cricket World Cup\n",
      "Summary: The 2019 ICC Cricket World Cup was the 12th Cricket World Cup, a quadrennial One Day International (ODI) cricket tournament contested by men's national teams and organised by the International Cricket Council (ICC). The tournament was hosted between 30 May and 14 July across 10 venues in England and a single venue in Wales. It was the fifth time that England had hosted the World Cup, while for Wales it was their third. \n",
      "The tournament was contested by 10 teams, a decrease from 14 teams in the previous edition, with the format of the tournament changing to a single round-robin group with the top four teams qualifying through to the knockout stage. After six weeks of round-robin matches, which saw four games not have a result, India, Australia, England, and New Zealand finished as the top four, with Pakistan missing out on net run rate.\n",
      "In the knockout stage, England and New Zealand won their respective semi-finals to qualify for the final, which was played at Lord's in London. The final ended in a tie after the match ended with both teams scoring 241 runs, followed by the first Super Over in an ODI; England won the title, their first, on the boundary countback rule after the Super Over also finished level. The total attendance throughout the 2019 ICC Cricket World Cup was 752,000.\n",
      "Overall, videos of the group stages amassed over 2.6 billion views from around the world, making it the most-watched cricket competition as of 2019.\n",
      "\n",
      "Page: 2023 Cricket World Cup\n",
      "Summary: The 2023 ICC Men's Cricket World Cup (also referred to as simply the 2023 Cricket World Cup) was the 13th edition of the Cricket World Cup, a quadrennial One Day International (ODI) cricket tournament organized by the International Cricket Council (ICC). It was hosted from 5 October to 19 November 2023 across ten venues in India.\n",
      "The tournament was contested by ten national teams, maintaining the same format used in 2019. In the knockout stage, India and Australia beat New Zealand and South Africa respectively to advance to the final, played on 19 November at Narendra Modi Stadium. Australia would win by 6 wickets, winning their sixth Cricket World Cup title.\n",
      "Virat Kohli was the player of the tournament and also scored the most runs; Mohammed Shami was the leading wicket-taker. A total of 1,250,307 spectators attended matches, the highest number in any Cricket World Cup to-date. The tournament final set viewership records in India, with 518 million viewers, and a peak of 57 million streaming viewers.\n",
      "\n",
      "Page: Cricket World Cup\n",
      "Summary: The Cricket World Cup (officially known as ICC Men's Cricket World Cup) is the international championship of One Day International (ODI) cricket. The event is organised by the sport's governing body, the International Cricket Council (ICC), every four years, with preliminary qualification rounds leading up to a finals tournament. The tournament is one of the world's most viewed sporting events and considered as the \"flagship event of the international cricket calendar\" by the ICC. It is widely considered the pinnacle championship of the sport of cricket.\n",
      "The first World Cup was organised in England in June 1975, with the first ODI cricket match having been played only four years earlier. However, a separate Women's Cricket World Cup had been held two years before the first men's tournament, and a tournament involving multiple international teams had been held as early as 1912, when a triangular tournament of Test matches was played between Australia, England and South Africa. The first three World Cups were held in England. From the 1987 tournament onwards, hosting has been shared between countries under an unofficial rotation system, with fourteen ICC members having hosted at least one match in the tournament.\n",
      "The current format involves a qualification phase, which takes place over the preceding three years, to determine which teams qualify for the tournament phase. In the tournament phase, 10 team\u001b[0m\n",
      "Thought:\u001b[32;1m\u001b[1;3m I now know the final answer\n",
      "Final Answer: The Cricket World Cup is the international championship of One Day International cricket, organized by the International Cricket Council every four years. The most recent tournament was the 2019 Cricket World Cup, hosted by England and won by England. The next tournament will be the 2023 Cricket World Cup, hosted by India. The World Cup is widely considered the pinnacle championship of the sport of cricket.\u001b[0m\n",
      "\n",
      "\u001b[1m> Finished chain.\u001b[0m\n"
     ]
    },
    {
     "data": {
      "text/plain": [
       "'The Cricket World Cup is the international championship of One Day International cricket, organized by the International Cricket Council every four years. The most recent tournament was the 2019 Cricket World Cup, hosted by England and won by England. The next tournament will be the 2023 Cricket World Cup, hosted by India. The World Cup is widely considered the pinnacle championship of the sport of cricket.'"
      ]
     },
     "execution_count": 37,
     "metadata": {},
     "output_type": "execute_result"
    }
   ],
   "source": [
    "agent.run(\"can you tell me about this recent cricket worldcup?\")"
   ]
  },
  {
   "cell_type": "code",
   "execution_count": 38,
   "id": "bfa52231-ddd0-4ed8-9257-60b785f19f7b",
   "metadata": {},
   "outputs": [
    {
     "name": "stdout",
     "output_type": "stream",
     "text": [
      "\n",
      "\n",
      "\u001b[1m> Entering new AgentExecutor chain...\u001b[0m\n",
      "\u001b[32;1m\u001b[1;3m I should search for \"current GDP of usa\"\n",
      "Action: wikipedia\n",
      "Action Input: current GDP of usa\u001b[0m\n",
      "Observation: \u001b[36;1m\u001b[1;3mPage: List of cities by GDP\n",
      "Summary: This is a list of cities in the world by gross domestic product (GDP). The United Nations uses three definitions for what constitutes a city, as not all cities may be classified using the same criteria. Cities may be defined as the cities proper, the extent of their urban area, or their metropolitan regions. The methodology of calculating GDP may differ between the studies and are widely based on projections and sometimes approximate estimations, notably for cities that are not within the Organisation for Economic Co-operation and Development. Refer to sources for more information. Click on the headers to reorganize columns.\n",
      "\n",
      "Page: List of U.S. states and territories by GDP\n",
      "Summary: This is a list of U.S. states and territories by gross domestic product (GDP). This article presents the 50 U.S. states and the District of Columbia and their nominal GDP at current prices.\n",
      "The data source for the list is the Bureau of Economic Analysis (BEA) in 2022. The BEA defined GDP by state as \"the sum of value added from all industries in the state.\"Nominal GDP does not take into account differences in the cost of living in different countries, and the results can vary greatly from one year to another based on fluctuations in the exchange rates of the country's currency. Such fluctuations may change a country's ranking from one year to the next, even though they often make little or no difference in the standard of living of its population.Overall, in the calendar year 2022, the United States' Nominal GDP at Current Prices totaled at $25.463 trillion, as compared to $23.315 trillion in 2021.\n",
      "The three U.S. states with the highest GDPs were California ($3.6 trillion), Texas ($2.356 trillion), and New York ($2.053 trillion). The three U.S. states with the lowest GDPs were Vermont ($40.6 billion), Wyoming ($47.4 billion), and Alaska ($63.6 billion).\n",
      "GDP per capita also varied widely throughout the United States in 2022, with New York ($105,226), Massachusetts ($99,274), and North Dakota ($96,461) recording the three highest GDP per capita figures in the U.S., while Mississippi ($47,572), Arkansas ($54,644), and West Virginia ($54,870) recorded the three lowest GDP per capita figures in the U.S. The District of Columbia, though, recorded a GDP per capita figure far higher than any U.S. state in 2022 at $242,853.\n",
      "\n",
      "Page: Economy of the United States\n",
      "Summary: The United States is a highly developed/advanced mixed economy. It is the world's largest economy by nominal GDP; it is also the second largest by purchasing power parity (PPP), behind China. It has the world's seventh highest per capita GDP (nominal) and the eighth highest per capita GDP (PPP) as of 2022. The U.S. accounted for 25.4% of the global economy in 2022 in nominal terms, and about 15.6% in PPP terms. The U.S. dollar is the currency of record most used in international transactions and is the world's reserve currency, backed by a large U.S. treasuries market, its role as the reference standard for the petrodollar system, and its linked eurodollar. Several countries use it as their official currency and in others it is the de facto currency.The American economy is fueled by high productivity, well developed transportation infrastructure, and extensive natural resources. Americans have the highest average household and employee income among OECD member states. In 2021, they had the highest median household income. The U.S. has one of the world's highest income inequalities among the developed countries. The largest U.S. trading partners are Canada, Mexico, China, Japan, Germany, South Korea, the United Kingdom, Taiwan, India, and Vietnam. The U.S. is the world's largest importer and second largest exporter. It has free trade agreements with several countries, including Canada and Mexico (through the USMCA), Australia, South Korea, Israel, and several others that are in effect or under negotiation.By 1890, the United States had overtaken the British \u001b[0m\n",
      "Thought:\u001b[32;1m\u001b[1;3m I now know the final answer\n",
      "Final Answer: According to the Bureau of Economic Analysis, the current GDP of the United States in 2022 is $25.463 trillion.\u001b[0m\n",
      "\n",
      "\u001b[1m> Finished chain.\u001b[0m\n"
     ]
    },
    {
     "data": {
      "text/plain": [
       "'According to the Bureau of Economic Analysis, the current GDP of the United States in 2022 is $25.463 trillion.'"
      ]
     },
     "execution_count": 38,
     "metadata": {},
     "output_type": "execute_result"
    }
   ],
   "source": [
    "agent.run(\"can you tell me what is current GDP of usa?\")"
   ]
  },
  {
   "cell_type": "markdown",
   "id": "e148c7c4-3d98-453f-85f4-5a4d07a8719d",
   "metadata": {},
   "source": [
    "# Chain"
   ]
  },
  {
   "cell_type": "markdown",
   "id": "31f75de6-edc5-4c69-b0d9-7352f43a3199",
   "metadata": {},
   "source": [
    "Central to LangChain is a vital component known as LangChain Chains, forming the core connection among one or several large language models (LLMs). In certain sophisticated applications, it becomes necessary to chain LLMs together, either with each other or with other elements."
   ]
  },
  {
   "cell_type": "code",
   "execution_count": null,
   "id": "eb5c214b",
   "metadata": {},
   "outputs": [],
   "source": [
    "client"
   ]
  },
  {
   "cell_type": "code",
   "execution_count": 40,
   "id": "d3d79e60-50d1-4fe6-b65e-c6932011bca5",
   "metadata": {},
   "outputs": [],
   "source": [
    "from langchain.prompts import PromptTemplate\n",
    "\n",
    "prompt=PromptTemplate.from_template(\"what is a good name for a company that makes {product}\")"
   ]
  },
  {
   "cell_type": "code",
   "execution_count": 41,
   "id": "cb4c3f22-f1e8-40b6-8843-08164884388b",
   "metadata": {},
   "outputs": [],
   "source": [
    "from langchain.chains import LLMChain"
   ]
  },
  {
   "cell_type": "code",
   "execution_count": 42,
   "id": "b61bab31-21a5-4cd2-a6fc-3ebffe68df89",
   "metadata": {},
   "outputs": [],
   "source": [
    "chain=LLMChain(llm=client,prompt=prompt)"
   ]
  },
  {
   "cell_type": "code",
   "execution_count": 45,
   "id": "cdec3020-d8c2-4049-bbf2-624d04a9295a",
   "metadata": {},
   "outputs": [
    {
     "name": "stdout",
     "output_type": "stream",
     "text": [
      "\"Vineyard Vines\" or \"The Grape Company\"\n"
     ]
    }
   ],
   "source": [
    "print(chain.run(\"Wine\").strip())"
   ]
  },
  {
   "cell_type": "code",
   "execution_count": 47,
   "id": "6ccb0073-5cc5-4ee9-93d0-abf3e4a1f408",
   "metadata": {
    "scrolled": true
   },
   "outputs": [
    {
     "name": "stdout",
     "output_type": "stream",
     "text": [
      "\"VinoVista\"\n",
      "1. VinoCraft\n",
      "2. Grapevine Co.\n",
      "3. CellarWorks\n",
      "4. VintageVine\n",
      "5. Oak & Vine Co.\n",
      "6. Noble Reserve\n",
      "7. Bacchus Wines\n",
      "8. Crimson Cellars\n",
      "9. Winemakers' Guild\n",
      "10. Terroir Estates\n",
      "1. VinoVita \n",
      "2. Grapes & Co. \n",
      "3. CellarCraft \n",
      "4. Noble Vineyards \n",
      "5. Bacchus Blends \n",
      "6. Vineyard Ventures \n",
      "7. Grapevine Co. \n",
      "8. WineWise \n",
      "9. Vintage Vines \n",
      "10. Cork & Barrel Co.\n",
      "1. Grapevine Cellars\n",
      "2. VinoViva\n",
      "3. Chateau Royale\n",
      "4. Cellar Door Wines\n",
      "5. Vintner's Choice\n",
      "6. WineCrafters\n",
      "7. Harvest Hills Winery\n",
      "8. The Tasting Room\n",
      "9. Noble Vineyards\n",
      "10. Vintage Reserve Co.\n",
      "Vineyard Visions\n",
      "1. VinoVeritas Co.\n",
      "2. Grapevine Cellars\n",
      "3. Bacchus Blend\n",
      "4. Vinoteca Vineyards\n",
      "5. The Wine Collective\n",
      "6. Terra Vitis Wines\n",
      "7. Cask & Barrel Winery\n",
      "8. Noble Nectar Wines\n",
      "9. Vineyard Vista\n",
      "10. Sip & Savour Cellars\n",
      "1. \"Vineyard Visions\"\n",
      "2. \"Grapevine Co.\"\n",
      "3. \"WineCrafters\"\n",
      "4. \"Vintage Vineyards\"\n",
      "5. \"Cellar Masters\"\n",
      "6. \"Crimson Crush Winery\"\n",
      "7. \"Sip & Savor Wines\"\n",
      "8. \"Harvest Heights\"\n",
      "9. \"Bacchus Bottles\"\n",
      "10. \"The Winemaker's Guild\"\n",
      "1. Vinum Vintners\n",
      "2. Grapevine Co.\n",
      "3. Winemakers' Cellar\n",
      "4. Vino Ventures\n",
      "5. The Wine Crafters\n",
      "6. Bacchus Bottlers\n",
      "7. Cru Classics\n",
      "8. Terroir Treasures\n",
      "9. Vintage Vineyards Inc.\n",
      "10. Noble Nectar Co.\n",
      "11. Cork & Barrel Co.\n",
      "12. Chateau Creations\n",
      "13. Mosaic Wines\n",
      "14. Vinology Co.\n",
      "15. Cellar Masters Co.\n",
      "16. Red Door Winery\n",
      "17. The Wine Collective\n",
      "18. Harvest & Crush Co.\n",
      "19. Vineyard Visions\n",
      "20. Tannin & Terroir Co.\n",
      "1. Vineyard Vines \n",
      "2. Grapevine Co. \n",
      "3. CellarCraft \n",
      "4. Vintage Vines \n",
      "5. Bacchus Bottles \n",
      "6. WineCrafters \n",
      "7. Noble Nectar \n",
      "8. Barrel & Vines \n",
      "9. Artisanal Wines \n",
      "10. The Grape Company \n",
      "11. Vintner's Choice \n",
      "12. Harvest Hill Wines \n",
      "13. Bottle & Barrel Co. \n",
      "14. Estate Elixirs \n",
      "15. Reserve Wines Inc.\n",
      "\"Vine & Vino Co.\"\n"
     ]
    }
   ],
   "source": [
    "for i in range(0,10):\n",
    "    print(chain.run(\"Wine\").strip())"
   ]
  },
  {
   "cell_type": "markdown",
   "id": "c36bbd02-2561-4c80-81c3-561f2895de2e",
   "metadata": {},
   "source": [
    "# Example 2"
   ]
  },
  {
   "cell_type": "code",
   "execution_count": 48,
   "id": "b375abae-77bf-4c39-8006-7948d51949a3",
   "metadata": {},
   "outputs": [
    {
     "name": "stdout",
     "output_type": "stream",
     "text": [
      "The history saving thread hit an unexpected error (OperationalError('attempt to write a readonly database')).History will not be written to the database.\n"
     ]
    }
   ],
   "source": [
    "prompt_template=PromptTemplate(\n",
    "    input_variables=['cuisine'],\n",
    "    template=\"i want to open a restaurent for {cuisine} food, suggest a fency name for this\"\n",
    ")"
   ]
  },
  {
   "cell_type": "code",
   "execution_count": 49,
   "id": "434fa5b2-6ef5-426f-9248-72bc980fa61d",
   "metadata": {},
   "outputs": [
    {
     "data": {
      "text/plain": [
       "PromptTemplate(input_variables=['cuisine'], template='i want to open a restaurent for {cuisine} food, suggest a fency name for this')"
      ]
     },
     "execution_count": 49,
     "metadata": {},
     "output_type": "execute_result"
    }
   ],
   "source": [
    "prompt_template"
   ]
  },
  {
   "cell_type": "code",
   "execution_count": 68,
   "id": "e40fa80c-4ebd-47f4-93ee-b3a3188e38cc",
   "metadata": {},
   "outputs": [],
   "source": [
    "chain=LLMChain(llm=client, prompt=prompt_template)"
   ]
  },
  {
   "cell_type": "code",
   "execution_count": 69,
   "id": "bbbe078c-038e-45e3-9397-bc6dae6b60a4",
   "metadata": {},
   "outputs": [
    {
     "data": {
      "text/plain": [
       "'\\n\\n\"Maharaja\\'s Palace\"'"
      ]
     },
     "execution_count": 69,
     "metadata": {},
     "output_type": "execute_result"
    }
   ],
   "source": [
    "chain.run(\"indian\")"
   ]
  },
  {
   "cell_type": "code",
   "execution_count": 70,
   "id": "f6384c4c-8bd1-4e7e-a685-6aa4a32c54d1",
   "metadata": {},
   "outputs": [],
   "source": [
    "chain=LLMChain(llm=client,prompt=prompt_template,verbose=True)"
   ]
  },
  {
   "cell_type": "code",
   "execution_count": 71,
   "id": "ae8c0863-0bb8-4083-924c-1aa56d1a7945",
   "metadata": {},
   "outputs": [
    {
     "name": "stdout",
     "output_type": "stream",
     "text": [
      "\n",
      "\n",
      "\u001b[1m> Entering new LLMChain chain...\u001b[0m\n",
      "Prompt after formatting:\n",
      "\u001b[32;1m\u001b[1;3mi want to open a restaurent for american food, suggest a fency name for this\u001b[0m\n",
      "\n",
      "\u001b[1m> Finished chain.\u001b[0m\n"
     ]
    },
    {
     "data": {
      "text/plain": [
       "'\\n\\n\"Stateside Bistro\" '"
      ]
     },
     "execution_count": 71,
     "metadata": {},
     "output_type": "execute_result"
    }
   ],
   "source": [
    "chain.run(\"american\")"
   ]
  },
  {
   "cell_type": "markdown",
   "id": "59910f1e-0bbc-43ff-954b-41c2c9228d48",
   "metadata": {},
   "source": [
    "### if we want to combine multiple chain and set a seqence for that we use simplesequential chain"
   ]
  },
  {
   "cell_type": "code",
   "execution_count": 72,
   "id": "3170f01d-0e88-4f1f-a5b5-d18ce66dfcb8",
   "metadata": {},
   "outputs": [],
   "source": [
    "prompt_template_name=PromptTemplate(\n",
    "input_variables=[\"startup_name\"],\n",
    "    template=\"I want to start a startup for {startup-name} , suggest me a good name for this\"   \n",
    ")"
   ]
  },
  {
   "cell_type": "code",
   "execution_count": 73,
   "id": "ada4ae20-1133-4e3c-9602-e2e0d4a5fe28",
   "metadata": {},
   "outputs": [],
   "source": [
    "name_chain=LLMChain(llm=client,prompt=prompt_template_name)"
   ]
  },
  {
   "cell_type": "code",
   "execution_count": 74,
   "id": "f1b7b8e7-11df-43b0-b30d-f90dd58ed66a",
   "metadata": {},
   "outputs": [],
   "source": [
    "prompt_template_items=PromptTemplate(\n",
    "input_variables=[\"name\"],\n",
    "    template=\"suggest some strategies for {name}\"    \n",
    ")"
   ]
  },
  {
   "cell_type": "code",
   "execution_count": 75,
   "id": "d1e82e1f-bcc9-426b-baf9-200d7e616c45",
   "metadata": {},
   "outputs": [],
   "source": [
    "strategies_chain=LLMChain(llm=client,prompt=prompt_template_items)"
   ]
  },
  {
   "cell_type": "code",
   "execution_count": 76,
   "id": "fba5234b-072a-4b8c-b507-77c909f119c2",
   "metadata": {},
   "outputs": [],
   "source": [
    "from langchain.chains import SimpleSequentialChain"
   ]
  },
  {
   "cell_type": "code",
   "execution_count": 77,
   "id": "d741b00e-2df5-48d6-a1b7-f93be0c8398e",
   "metadata": {},
   "outputs": [],
   "source": [
    "chain=SimpleSequentialChain(chains=[name_chain,strategies_chain])"
   ]
  },
  {
   "cell_type": "code",
   "execution_count": 78,
   "id": "fd6094b2-4c47-4ef2-a099-d3031d8a3d64",
   "metadata": {},
   "outputs": [
    {
     "name": "stdout",
     "output_type": "stream",
     "text": [
      "\n",
      "\n",
      "1. Targeted Marketing: Identify the key demographics and target audience for your product and use targeted marketing strategies to reach them. This can include social media advertising, email marketing, and partnering with influencers or bloggers in your niche.\n",
      "\n",
      "2. Create a Strong Online Presence: Develop a professional and user-friendly website for your brand. This will serve as the main platform for potential customers to learn about your product, its features, and benefits. Make sure to optimize your website for search engines to increase visibility.\n",
      "\n",
      "3. Utilize the Power of Social Media: Social media platforms such as Facebook, Instagram, and LinkedIn can be powerful tools for promoting your product. Share engaging content, run targeted ads, and interact with your followers to build a strong online presence.\n",
      "\n",
      "4. Offer Free Trials or Samples: People are more likely to try a product if they can test it out first. Consider offering free trials or samples of your product to potential customers to give them a taste of what it can do.\n",
      "\n",
      "5. Partner with Industry Influencers: Collaborate with influencers in your industry to promote your product to their followers. This can help increase brand awareness and credibility.\n",
      "\n",
      "6. Attend Trade Shows and Events: Participating in industry trade shows and events is a great way to showcase your product and connect with\n"
     ]
    }
   ],
   "source": [
    "print(chain.run(\"artifical intelligence\"))"
   ]
  },
  {
   "cell_type": "markdown",
   "id": "79405022-3ab2-4f20-95e0-e5ed57b851b7",
   "metadata": {},
   "source": [
    "# Now lets try to understand the sequential chain"
   ]
  },
  {
   "cell_type": "code",
   "execution_count": 79,
   "id": "268cd663-a8af-4d8f-a468-b670eba5d712",
   "metadata": {},
   "outputs": [],
   "source": [
    "prompt_template_name=PromptTemplate(\n",
    "    input_variables=[\"cuisine\"],\n",
    "    template=\"i want to open a restaurant for {cuisine}, suggest a fency name for it\"\n",
    ")\n",
    "\n",
    "name_chain=LLMChain(llm=client, prompt=prompt_template_name,output_key=\"restaurant_name\")"
   ]
  },
  {
   "cell_type": "code",
   "execution_count": 80,
   "id": "17479082-2354-443e-a285-30c9d8281f27",
   "metadata": {},
   "outputs": [],
   "source": [
    "prompt_templates_items=PromptTemplate( \n",
    "    input_variables=[\"restaurant_name\"],\n",
    "    template=\"suggest some menu items for {restaurant_name}\"\n",
    "    \n",
    ")\n",
    "\n",
    "food_items_chain=LLMChain(llm=client, prompt=prompt_templates_items, output_key=\"menu_items\")\n"
   ]
  },
  {
   "cell_type": "code",
   "execution_count": 81,
   "id": "d67bfae1-5be9-458d-9c11-290a5afc9bfc",
   "metadata": {},
   "outputs": [],
   "source": [
    "from langchain.chains import SequentialChain"
   ]
  },
  {
   "cell_type": "code",
   "execution_count": 82,
   "id": "050975d8-d687-404a-8681-5bfcdc2999bb",
   "metadata": {},
   "outputs": [],
   "source": [
    "chain=SequentialChain(chains=[name_chain, food_items_chain],\n",
    "    input_variables=[\"cuisine\"],\n",
    "    output_variables=[\"restaurant_name\",\"menu_items\"]\n",
    "    \n",
    ")"
   ]
  },
  {
   "cell_type": "code",
   "execution_count": 83,
   "id": "991f6dc4-8f72-4ddf-94a6-de994eb1761e",
   "metadata": {},
   "outputs": [
    {
     "data": {
      "text/plain": [
       "{'cuisine': 'indian',\n",
       " 'restaurant_name': '\\n\\n1. \"Saffron Spice Bistro\"\\n2. \"Tandoori Tales\"\\n3. \"Curry Kingdom\"\\n4. \"Masala Mansion\"\\n5. \"Naan Stop Cafe\"\\n6. \"Flavors of India\"\\n7. \"Chutney Chronicles\"\\n8. \"Spice Route Restaurant\"\\n9. \"Bollywood Bites\"\\n10. \"Namaste Kitchen\"',\n",
       " 'menu_items': '\\n\\n1. \"Saffron Chicken Tikka Masala\"\\n2. \"Tandoori Lamb Chops\"\\n3. \"Vegetable Korma\"\\n4. \"Butter Chicken\"\\n5. \"Naan Bread with Garlic and Herbs\"\\n6. \"Aloo Gobi (Potato and Cauliflower Curry)\"\\n7. \"Mango Lassi (Mango yogurt drink)\"\\n8. \"Spicy Chicken Vindaloo\"\\n9. \"Paneer Tikka (Grilled Indian cheese)\"\\n10. \"Chicken Biryani (Spiced rice dish)\"'}"
      ]
     },
     "execution_count": 83,
     "metadata": {},
     "output_type": "execute_result"
    }
   ],
   "source": [
    "chain({\"cuisine\":\"indian\"})"
   ]
  },
  {
   "cell_type": "markdown",
   "id": "14dfa962-d526-4818-b4ed-99cf35ee7913",
   "metadata": {},
   "source": [
    "# document loders"
   ]
  },
  {
   "cell_type": "code",
   "execution_count": 84,
   "id": "1251370f-cf16-41f7-90c2-c356fe5471df",
   "metadata": {},
   "outputs": [
    {
     "name": "stdout",
     "output_type": "stream",
     "text": [
      "Collecting pypdf\n",
      "  Downloading pypdf-4.0.2-py3-none-any.whl.metadata (7.4 kB)\n",
      "Requirement already satisfied: typing_extensions>=3.7.4.3 in /Users/mayankchugh/opt/anaconda3/envs/genaifisrtprj/lib/python3.8/site-packages (from pypdf) (4.9.0)\n",
      "Downloading pypdf-4.0.2-py3-none-any.whl (283 kB)\n",
      "\u001b[2K   \u001b[90m━━━━━━━━━━━━━━━━━━━━━━━━━━━━━━━━━━━━━━━\u001b[0m \u001b[32m284.0/284.0 kB\u001b[0m \u001b[31m841.7 kB/s\u001b[0m eta \u001b[36m0:00:00\u001b[0ma \u001b[36m0:00:01\u001b[0m\n",
      "\u001b[?25hInstalling collected packages: pypdf\n",
      "Successfully installed pypdf-4.0.2\n"
     ]
    }
   ],
   "source": [
    "!pip install pypdf"
   ]
  },
  {
   "cell_type": "code",
   "execution_count": 85,
   "id": "df7636ac-d0a2-44af-b60f-f05502583757",
   "metadata": {},
   "outputs": [],
   "source": [
    "from langchain.document_loaders import PyPDFLoader"
   ]
  },
  {
   "cell_type": "code",
   "execution_count": 86,
   "id": "2cc1147b-bbe8-4db1-9aea-a5063a61ba81",
   "metadata": {},
   "outputs": [],
   "source": [
    "loader = PyPDFLoader(r\"/Users/mayankchugh/Documents/CVs/2024/CV & Cover letters/Mayank's Feb 2024 - CV.pdf\")"
   ]
  },
  {
   "cell_type": "code",
   "execution_count": 87,
   "id": "184b77af-af7f-4f67-be2e-b2c03ef0e084",
   "metadata": {},
   "outputs": [
    {
     "data": {
      "text/plain": [
       "<langchain_community.document_loaders.pdf.PyPDFLoader at 0x7fc948929a00>"
      ]
     },
     "execution_count": 87,
     "metadata": {},
     "output_type": "execute_result"
    }
   ],
   "source": [
    "loader"
   ]
  },
  {
   "cell_type": "code",
   "execution_count": 88,
   "id": "b4f10f1c-0df0-4c99-9907-eeeecd9f1f15",
   "metadata": {},
   "outputs": [],
   "source": [
    "pages = loader.load_and_split()"
   ]
  },
  {
   "cell_type": "code",
   "execution_count": 89,
   "id": "afc4a34e-7f18-42d5-8324-871cc9499d3d",
   "metadata": {},
   "outputs": [
    {
     "data": {
      "text/plain": [
       "[Document(page_content='Page 1 of 3  Mayank Chugh  Visionary Enterprise Architect | Driving Strategic Innovation, Cloud Governance, Integration & Digital Transformation for Global Enterprises  A tech-savvy, self-motivated and competent professional with over two decades of pioneering experience in strategic IT (Information Technology) leadership, cloud migration/integration, solution architecture & development, and technical project management within global enterprises, aiming to leverage expertise in driving transformative initiatives and fostering innovation. Seeking career advancement with an esteemed organization to leverage my expertise in the IT arena for steering transformative initiatives, performance-optimizing operational efficiency, and aligning technology frameworks with business objectives, thereby contributing to organizational growth and success.  SKILLS           Business Analysis Quality Standards and Continue Improvement Plan SDLC Technical Documentation Team Management  TECHNICAL SKILLS  Languages:  Java / J2EE, Python EJB, Spring Boot, JavaScript, Struts 1.x MVC, PL/SQL Databases:  Oracle, MySQL, Postgres  Reporting:  iReport, Jasper Report  Version Control:  GIT, SVN  Web Services:  Soap, Rest API Development, Swagger API  Management Tool:  Confluence, Service Now, Jira, Maximo, Bugzilla  Operating Systems:  Windows (XP, 10), Linux and Ubuntu  Methodologies:  Iterative, Agile, Waterfall  Cloud Services:  Azure VM, Azure DB, Azure Functions Azure Storage, AWS EC2, ELB, EBS, S3, VPC, SQS, SES, SNS, IAM, RDS, Cloud Watch, Cloud Front, CLI, IOT, MQTT (pub/sub)  DevOps:  GIT, Jenkins, Azure DevOps, AWS CI/CD pipeline, dockers, Ansible, AWS ECS and EKS cluster, Kubernetes(K8S), Terraform  Machine Learning:  Supervised, Un-Supervised, Reinforcement Learning, Generative AI, Prompt Engineering  Productivity tools: SharePoint, Office, Word, Excel, PowerPoint  IDE Eclipse, IntelliJ, Notepad++, Visual Studio   KEY STRENGTHS Strategic Architectural Vision: Demonstrated expertise in devising and executing strategy/strategic architectural direction for initiatives, ensuring alignment with business objectives. Proficient in developing and maintaining enterprise-wide architecture repositories, making informed decisions that optimise operations and drive business growth. Technical Expertise and Continuous Improvement: Possesses a broad spectrum of technical skills encompassing software development, database design, cloud governance, cloud services, and DevOps methodologies. Strongly committed to ensuring quality standards, leveraging advanced tools, and continuously improving architectural processes to drive efficiency and innovation. Identify opportunities for process improvement and recommend solutions. Cloud Migration and Solution Design Proficiency: Extensive experience and subject matter expertise in cloud migration strategies, contributing significantly to successful migrations and cloud-based solution architectures. Proven track record as a cloud migration expert, contributing to successful migrations to AWS and Azure. Skilled in designing scalable frameworks and integrating diverse systems to meet evolving business needs effectively as per market standards. Effective Leadership and Collaboration: Proven ability to collaborate, lead and motivate cross-functional teams, fostering collaboration and synergy to achieve architectural objectives. Strong communication skills provide clear guidance to stakeholders and team members, ensuring seamless project execution and achievement of architectural goals. Solution Design and Development: Strong capabilities in designing and implementing scalable architecture frameworks. Adept at leading transformations and offering cost-effective solutions for mobile app development, ensuring efficient infrastructure and application designs. Project Management/ Service Delivery Excellence: Strong project management/Service Delivery skills with an emphasis on delivering projects within scope, timeline, and budget.', metadata={'source': \"/Users/mayankchugh/Documents/CVs/2024/CV & Cover letters/Mayank's Feb 2024 - CV.pdf\", 'page': 0}),\n",
       " Document(page_content='and application designs. Project Management/ Service Delivery Excellence: Strong project management/Service Delivery skills with an emphasis on delivering projects within scope, timeline, and budget. Proficient in executing project plans,  leading end-to-end digital transformations, managing multimillion-dollar accounts, challenging the status quo and overseeing release management throughout the software development lifecycle.  WORK EXPERIENCE  Enterprise Architect | Solution Architect  Capgemini, Hong Kong  10/2021 - 12/2023,', metadata={'source': \"/Users/mayankchugh/Documents/CVs/2024/CV & Cover letters/Mayank's Feb 2024 - CV.pdf\", 'page': 0}),\n",
       " Document(page_content='mayankchugh.jobathk@gmail.com  \\n+852 \\n – 84812040  \\nHong Kong, SAR  \\nlinkedin.com/in/mchugh77 \\n  \\ngithub.com/mayankchugh1977 \\n  Enterprise Architecture  Solution Architecture (API+Cloud)  Service Delivery Management Custom Software Engineering and Database Design  Project Lifecycle Management  Internal & External Stakeholder Management  Requirements Analysis  Vendor Management  Product Development  Release Management  Project Scheduling & Budgeting  Business Analysis  Quality Standards and Continue Improvement Plan  Technical Documentation  Team Management  Technical Project Management  On-premise Data Centre to Cloud Migration/Integration  Cloud Governance  SDLC', metadata={'source': \"/Users/mayankchugh/Documents/CVs/2024/CV & Cover letters/Mayank's Feb 2024 - CV.pdf\", 'page': 0}),\n",
       " Document(page_content='Page 2 of 3  - Transformed Operational Excellence: Revolutionized and spearheaded the evaluation and enhancement of internal functions and business development and deployment strategies, leveraging visionary insights to propel eﬃciency improvements and optimize operational processes at Capgemini.  - Governance and Architecture Review: Led Architecture Review Board (ARB) meetings, ensuring alignment with architectural standards. Maintained the Enterprise Architecture repository with detailed records and actively participated in Change Advisory Board (CAB) sessions for compliance assessment.  - Strategic Implementation: Participated in the roadmap and strategy development for long-term business goals. Implemented architectural enhancements using technical, analytical, and project management expertise, fostering cross-functional teamwork to accomplish architectural objectives eﬀectively.  - IT Integration and Synergy: Contributed to the development and execution of IT integration strategies, enhancing the existing infrastructure through synergistic collaborations and eﬃciently managing Scrum teams.  - Data Migration Expertise: Orchestrated seamless Qlik Replicate data migration from on-premise data centre infrastructure D365 to Azure DB, enabling streamlined Power BI integration for comprehensive data reporting.  - Modelling and Documentation Mastery: Proﬁciently utilized model techniques and graphical representations to communicate architectural concepts eﬀectively through compelling presentations, Conﬂuence documentation, and graphical tools like Draw.io.  - Solution Architect Contribution: Proactively led the development of Robo Digital Advisory for iOS and Android, capturing project requirements and architecting infrastructure and application designs in Conﬂuence while engaging with business leaders, users, and architects.  - Scalable Solution Architecture Design: Spearheaded the implementation of a scalable architecture framework aligning business capabilities with IT systems, notably enhancing data analytics and visualization capabilities and delivering a cloud application integration layer for a global ﬁnancial project.  - Eﬀective Communication and Leadership: Demonstrated interpersonal skills and adept communication with stakeholders and team members, oﬀering clear guidance, inspiring team members, and establishing best practices, SOPs, and monitoring techniques.  - Cloud Migration Expertise: Acted as a subject matter expert in cloud migration from an on-premise data centre, contributing to multiple pre-sales assignments by oﬀering approaches for highly available, fault-tolerant, and resilient applications. Successfully migrated a Lift and Shift Monolithic application, including VM and RDS server migration to AWS for a Java + Oracle RDS application, deﬁning disaster recovery RTO and RPOs for the client.  - Azure Cloud Services Proﬁciency: Extensive experience in software development with expertise in Java and cloud technologies such as Azure Functions, Azure Blob Storage, and DB. Successfully delivered scalable and eﬃcient solutions, leveraging Azure Virtual Machines, Networking, VPCDB, and Azure App Service while collaborating with cross-functional teams and following agile methodologies. Cloud Application Manager Architect  Deloitte, Hong Kong  03/2022 - 08/2022,   - Engagement in Pre-sales Activity: Engaged actively in pre-sales activities, collaborating with clients to provide them with comprehensive solutions, speciﬁcally focusing on high availability, fault tolerance, and resilience for their applications.  - Specialized Contribution as Azure Cloud SME: Specialized in providing cloud governance, hence as subject matter expertise of the Azure Cloud team, with a primary focus on application implementation. Deﬁned and implemented robust DevOps strategies while meticulously accepting and aligning Service Level Agreements (SLA), Recovery Point Objectives (RPO), and Recovery Time Objectives (RTO).  - Architectural', metadata={'source': \"/Users/mayankchugh/Documents/CVs/2024/CV & Cover letters/Mayank's Feb 2024 - CV.pdf\", 'page': 1}),\n",
       " Document(page_content='implemented robust DevOps strategies while meticulously accepting and aligning Service Level Agreements (SLA), Recovery Point Objectives (RPO), and Recovery Time Objectives (RTO).  - Architectural Solution Development: Took a holistic approach to architectural solution development, actively collaborating with cross-functional teams to design and implement cloud-based solutions that met client requirements and adhered to industry best practices.  Senior Technical Architect/ Project Manager  Coforge, Hong Kong  05/2004 - 10/2021,   - Requirements Gathering and Design: Interacted extensively, conducting meetings and walkthroughs with application users, gathering and designing project requirements & feedback speciﬁcations, and creating BRD, FRD, user stories and mock-ups for customer needs to enhance operational eﬃciency.  - Technical Documentation and Response Management: Developed over 55 technical responses to Requests for Quotations (RFQs), showcasing expertise in technical documentation and proposal management. I am open to recommendations, changes, and new business processes. - Management of Cloud and On-Premises Activities: Managed diverse activities, management reports, conducted evaluations and provided timely and accurate tracking of KPIs/SLAs, including Release Management, Backlog grooming session, Sprint Planning, Issues / Incident/problem report/service Management,  Change Management and troubleshooting, Service Delivery, and Quality Assurance/Testing for multiple web and mobile applications, providing 2nd and 3rd-level technical support while overseeing both on-site and oﬀshore resources.  - Strategic Project Management and Prioritization: Managed project priorities, deadlines, and deliverables across regions, optimizing operational eﬃciency and ensuring alignment with business objectives with a team of four on-site and four oﬀshore resources.  - End-to-End Digital Transformations: Led comprehensive digital transformations for iOS and Android mobile app development, providing cost optimization solutions, infrastructure and application architecture, and maintenance support.  - Enterprise Architecture Governance: Conducted governance review meetings with Cathay Management, ensuring compliance with architectural standards and alignment with business objectives.  - Pre-Sales and Solution Implementation: Contributed to pre-sales eﬀorts by providing winning solutions, responding to RFPs and RFIs, and overseeing technical realization by delivery teams, including Proof of Concepts (POCs) for monolithic migrations to the cloud.  - Software Product Design and Engineering: Designed and engineered software products, such as migration to AWS S3, implementing OCR using Azure AI - Computer Vision, and incorporating AWS IoT for warehouse cargo applications.  - Data Warehouse Infrastructure Implementation: Implemented a robust data warehouse infrastructure, integrating multiple data sources and leveraging ETL processes, facilitating advanced analytics and reporting for data-driven decision-making and risk reduction.  - Management of Revenue Accounts and Software Development Lifecycle: Managed multimillion-dollar revenue accounts and releases throughout the software development lifecycle,  conducted QA and UAT, and collaborated and communicated closely with customers, internal staﬀ, and stakeholders for system-oriented projects. Developed RESTful APIs for interface integration with HKIA and spearheaded infrastructure, application, release, conﬁguration, migration, identity and access with Outh-2, and process management aligned with the release calendar.  WORK EXPERIENCE  Software Developer  Layer 3 Technologies, New Delhi  08/2003 - 04/2004,   - Production Support and Enhancements: Delivered production support, major and minor enhancements (20+), and bug ﬁxes (500+) as a key contributor to the Software Development Life Cycle (SDLC) at Layer 3 Technologies.  - System Design for User Productivity: Designed and developed', metadata={'source': \"/Users/mayankchugh/Documents/CVs/2024/CV & Cover letters/Mayank's Feb 2024 - CV.pdf\", 'page': 1}),\n",
       " Document(page_content=\"enhancements (20+), and bug ﬁxes (500+) as a key contributor to the Software Development Life Cycle (SDLC) at Layer 3 Technologies.  - System Design for User Productivity: Designed and developed forward-thinking systems (100+ pages) to enhance user productivity and address their needs, demonstrating a proactive approach to system architecture.  CAREER TIMELINE  Company: Capgemini, Hong Kong  - Client: CHANEL., Hong Kong | Designation: Enterprise Architect | Duration: Oct '23–Dec’23 (payroll managed by eTeams)\", metadata={'source': \"/Users/mayankchugh/Documents/CVs/2024/CV & Cover letters/Mayank's Feb 2024 - CV.pdf\", 'page': 1}),\n",
       " Document(page_content=\"Page 3 of 3  - Client: HSBC., Hong Kong | Designation: Cloud / Solution Architect | Duration: Sep '22–Aug’23  - Client: HSBC., Hong Kong - Designation: Cloud / Solution Architect | Duration: Oct '21–Feb’22  Company: Deloitte, Hong Kong  - Client: CHANEL, Hong Kong | Designation: Cloud Application Manager Architect | Duration: Mar '22 – Aug’ 22  Company: Coforge, Hong Kong  - Client: Cathay Paciﬁc Cargo Terminal, Hong Kong | Designation: Senior Technical Architect/ Project Manager | Duration: Oct '16 – Oct’ 21  - Client: Asia Airfreight Terminal, Hong Kong | Designation: Senior Technical Architect/ Project Manager | Duration: Feb 2014 - Sep 2016  - Client: British Airways, London, UK & New Delhi | Designation: Senior Technical Architect | Duration: Oct 2012 – Jan 2014  - Client: Cathay Paciﬁc Cargo Terminal, Hong Kong | Designation: Technical Analyst / Project Lead. | Duration: Oct 2008 – Sep 2012  - Client: Lehman Brothers, Singapore | Designation: Technical Analyst / Project Lead. | Duration: May 2008 – Sep 2008  - Client: Asia Airfreight Terminal, Hong Kong | Designation: Technical Analyst | Duration: Jan 2006 – Apr 2008  - Client: Marks and Spencer, London | Designation: Technical Analyst / Project Lead. | Duration: May 2004 - Dec 2005  Company: Layer 3 Technologies, New Delhi  - Client: Collin Street Bakery, US  INCA Informatics, New Delhi as Software Developer (02/2003 - 07/2003)  HCL Infosystems Ltd., New Delhi and Mukul Computer Services, India as Technical Customer Support Engineer (08/1997 - 12/2000)  EDUCATION  PG Diploma in AI & ML  Great Learning  11/2021,  PG Diploma in Software Development (FSD)  Upgrad, IIIT Bangalore  03/2021,   PG Diploma Program in Cloud Computing  Great Learning  03/2020,   Masters in Computer Application (Computer Science) U.P.T.U, India  07/2003,   PG Diploma in Computers Programming  Agra Technical University, India  12/1999,   Bachelor of Arts  Agra University, India  06/1997,   CERTIFICATIONS  Azure DevOps: AZ 400 (09/2023) Certified ScrumMaster® (CSM®) (04/2023) Azure Administrator: AZ 104 (03/2023) Azure Fundamental: AZ 900 (01/2023) Togaf 9.2 Certified: Enterprise Architect (10/2022) AWS Certified Cloud Practitioner (08/2022) DevOps Foundation Certified (06/2022) HashiCorp Certified: Terraform Associate (05/2022) AWS Certified Solutions Architect – Associate (04/2017) AWS Certified Developer - Associate (06/2017) PRINCE2® Foundation and Practitioner (11/2016) PMI Generative AI Overview for Project Managers Sun Certified Java Professional (JDK 1.6) (01/2010) PMP Training - Udemy (11/2023) AI-900 Exam Preparation: Microsoft Azure AI Fundamentals\", metadata={'source': \"/Users/mayankchugh/Documents/CVs/2024/CV & Cover letters/Mayank's Feb 2024 - CV.pdf\", 'page': 2})]"
      ]
     },
     "execution_count": 89,
     "metadata": {},
     "output_type": "execute_result"
    }
   ],
   "source": [
    "pages"
   ]
  },
  {
   "cell_type": "markdown",
   "id": "f421a6a1-be7b-483b-8ec2-88316c6d1855",
   "metadata": {},
   "source": [
    "# Memory"
   ]
  },
  {
   "cell_type": "code",
   "execution_count": 2,
   "id": "be5436e7-b953-420e-8c97-1111f4ac819a",
   "metadata": {},
   "outputs": [],
   "source": [
    "from langchain.prompts import PromptTemplate\n",
    "from langchain.chains import LLMChain\n",
    "from langchain.llms import OpenAI"
   ]
  },
  {
   "cell_type": "code",
   "execution_count": 4,
   "id": "be0ff107-0d1e-4e09-8ca8-49e7e8d1f2e9",
   "metadata": {},
   "outputs": [],
   "source": [
    "OPENAI_KEY=OPENAI_KEY"
   ]
  },
  {
   "cell_type": "code",
   "execution_count": 5,
   "id": "098fec5c-c9bd-4a1b-8de2-8a76888d183e",
   "metadata": {},
   "outputs": [
    {
     "name": "stderr",
     "output_type": "stream",
     "text": [
      "/Users/mayankchugh/opt/anaconda3/envs/genaifisrtprj/lib/python3.8/site-packages/langchain_core/_api/deprecation.py:117: LangChainDeprecationWarning: The class `langchain_community.llms.openai.OpenAI` was deprecated in langchain-community 0.0.10 and will be removed in 0.2.0. An updated version of the class exists in the langchain-openai package and should be used instead. To use it run `pip install -U langchain-openai` and import as `from langchain_openai import OpenAI`.\n",
      "  warn_deprecated(\n"
     ]
    }
   ],
   "source": [
    "client=OpenAI(openai_api_key=OPENAI_KEY)"
   ]
  },
  {
   "cell_type": "code",
   "execution_count": 6,
   "id": "93ab4b5d-86a4-43c5-8c73-d74c08d53ddc",
   "metadata": {},
   "outputs": [],
   "source": [
    "prompt_template_name = PromptTemplate(\n",
    "    input_variables = ['product'],\n",
    "    template = \"What is the good name for a company that makes {product}\"\n",
    ")"
   ]
  },
  {
   "cell_type": "code",
   "execution_count": 7,
   "id": "ca8d317f-a5e0-42d6-a38f-59bd11e38cc8",
   "metadata": {},
   "outputs": [],
   "source": [
    "chain=LLMChain(llm=client, prompt=prompt_template_name)"
   ]
  },
  {
   "cell_type": "code",
   "execution_count": 10,
   "id": "ef760049-8fd3-4a10-a8bd-0675f6016ffd",
   "metadata": {},
   "outputs": [
    {
     "name": "stdout",
     "output_type": "stream",
     "text": [
      "\"TechTrek Laptops\" or \"InnovateNote Computers\"\n"
     ]
    }
   ],
   "source": [
    "print(chain.run(\"laptop\").strip())"
   ]
  },
  {
   "cell_type": "code",
   "execution_count": 9,
   "id": "eeae5a95-14ca-4d7c-a1a0-3f4fe9e4b905",
   "metadata": {},
   "outputs": [],
   "source": [
    "prompt_template_name = PromptTemplate(\n",
    "    input_variables = ['product'],\n",
    "    template = \"What would be a good name for a company that makes {product}\"\n",
    ")"
   ]
  },
  {
   "cell_type": "code",
   "execution_count": 12,
   "id": "e014a7fb-1e01-4c65-af23-0fcc550d906f",
   "metadata": {},
   "outputs": [],
   "source": [
    "chain=LLMChain(llm=client, prompt=prompt_template_name)"
   ]
  },
  {
   "cell_type": "code",
   "execution_count": 14,
   "id": "418a4ade-72f0-4fd5-950b-f17ba8e77b3e",
   "metadata": {},
   "outputs": [
    {
     "name": "stdout",
     "output_type": "stream",
     "text": [
      "\"SkyTech Innovations\" or \"AeroDrone Solutions\"\n"
     ]
    }
   ],
   "source": [
    "print(chain.run(\"drons\").strip())"
   ]
  },
  {
   "cell_type": "code",
   "execution_count": 15,
   "id": "69980a91-380b-49c1-9098-2706fbbc30a9",
   "metadata": {},
   "outputs": [],
   "source": [
    "chain.memory"
   ]
  },
  {
   "cell_type": "code",
   "execution_count": 16,
   "id": "3f44b40d-87b9-4569-abf2-8088e18a0b34",
   "metadata": {},
   "outputs": [
    {
     "data": {
      "text/plain": [
       "NoneType"
      ]
     },
     "execution_count": 16,
     "metadata": {},
     "output_type": "execute_result"
    }
   ],
   "source": [
    "type(chain.memory)"
   ]
  },
  {
   "cell_type": "raw",
   "id": "5e57d8a7-2001-4f39-8b85-7cba593a4822",
   "metadata": {},
   "source": [
    "# Conversation Buffer Memory"
   ]
  },
  {
   "cell_type": "code",
   "execution_count": null,
   "id": "8e5e4154-041f-4db0-8432-0cb25cecd1d1",
   "metadata": {},
   "outputs": [],
   "source": []
  }
 ],
 "metadata": {
  "kernelspec": {
   "display_name": "Python 3 (ipykernel)",
   "language": "python",
   "name": "python3"
  },
  "language_info": {
   "codemirror_mode": {
    "name": "ipython",
    "version": 3
   },
   "file_extension": ".py",
   "mimetype": "text/x-python",
   "name": "python",
   "nbconvert_exporter": "python",
   "pygments_lexer": "ipython3",
   "version": "3.9.7"
  }
 },
 "nbformat": 4,
 "nbformat_minor": 5
}
